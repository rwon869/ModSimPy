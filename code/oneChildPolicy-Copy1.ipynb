{
 "cells": [
  {
   "cell_type": "markdown",
   "metadata": {},
   "source": [
    "# China's One Child Policy\n",
    "\n",
    "At what point are there too many men?\n"
   ]
  },
  {
   "cell_type": "code",
   "execution_count": 55,
   "metadata": {
    "collapsed": true
   },
   "outputs": [],
   "source": [
    "%matplotlib inline\n",
    "\n",
    "from modsim import *"
   ]
  },
  {
   "cell_type": "code",
   "execution_count": 56,
   "metadata": {},
   "outputs": [
    {
     "ename": "SyntaxError",
     "evalue": "EOF while scanning triple-quoted string literal (<ipython-input-56-1b8acae58c62>, line 32)",
     "output_type": "error",
     "traceback": [
      "\u001b[1;36m  File \u001b[1;32m\"<ipython-input-56-1b8acae58c62>\"\u001b[1;36m, line \u001b[1;32m32\u001b[0m\n\u001b[1;33m    adultpopmale = #ofmaturationboys + adultpopmale[yearBefore] - #ofdeaths/2\u001b[0m\n\u001b[1;37m                                                                             \n^\u001b[0m\n\u001b[1;31mSyntaxError\u001b[0m\u001b[1;31m:\u001b[0m EOF while scanning triple-quoted string literal\n"
     ]
    }
   ],
   "source": [
    "\"\"\"\" game plan:\n",
    "write a system with :\n",
    "t0 = time started\n",
    "adult population0 \n",
    "    male pop0\n",
    "    female pop0\n",
    "death_rate = death rate of population\n",
    "\n",
    "juvenile_pop0\n",
    "maturation # = when they reach a certain age, they are considered good to birth/have a baby \n",
    "    maturation# = maturation[i-18] (if 18 is the \"mature\" number)\n",
    "probability of being a girl or boy = calculcated from the male/female ratio\n",
    "    \n",
    "TimeSeries = array\n",
    "\n",
    "run_simulation(system)\n",
    "make two dataFrames, one young and one old w/ subarrays w/ males and females (and possibly total to make code cleaner) \n",
    "    FIGURE OUT HOW TO WRITE/INTIALIZE DATAFRAMES\n",
    "set pop0 to actual data points\n",
    "\n",
    "FOR every year: \n",
    "    #ofmaturationsgirls = system.young[i - (ageWhenMature)] #pulling the number of babies that were born ageWhenMature years ago\n",
    "    #ofmaturationsboys = \"              \"                          \"\n",
    "    \n",
    "    #ofbabiesNextYear = #ofmaturationsgirls\n",
    "    young.males[t+1] = #ofbabiesNextYear * system.probOfB\n",
    "    young.females[t+1] = #ofbabiesNextYear - young.males[t+1]\n",
    "    \n",
    "    #ofdeaths = adultpop[yearNow] * system.death_rate\n",
    "    \n",
    "    adultpopfemale = #ofmaturationgirls + adultpopfemale[yearBefore] - #ofdeaths/2\n",
    "    adultpopmale = #ofmaturationboys + adultpopmale[yearBefore] - #ofdeaths/2\n"
   ]
  },
  {
   "cell_type": "code",
   "execution_count": 128,
   "metadata": {},
   "outputs": [
    {
     "data": {
      "text/html": [
       "<div>\n",
       "<style>\n",
       "    .dataframe thead tr:only-child th {\n",
       "        text-align: right;\n",
       "    }\n",
       "\n",
       "    .dataframe thead th {\n",
       "        text-align: left;\n",
       "    }\n",
       "\n",
       "    .dataframe tbody tr th {\n",
       "        vertical-align: top;\n",
       "    }\n",
       "</style>\n",
       "<table border=\"1\" class=\"dataframe\">\n",
       "  <thead>\n",
       "    <tr style=\"text-align: right;\">\n",
       "      <th></th>\n",
       "      <th>value</th>\n",
       "    </tr>\n",
       "  </thead>\n",
       "  <tbody>\n",
       "    <tr>\n",
       "      <th>t0</th>\n",
       "      <td>0</td>\n",
       "    </tr>\n",
       "    <tr>\n",
       "      <th>t_end</th>\n",
       "      <td>10</td>\n",
       "    </tr>\n",
       "    <tr>\n",
       "      <th>old_pop0</th>\n",
       "      <td>300</td>\n",
       "    </tr>\n",
       "    <tr>\n",
       "      <th>young_pop0</th>\n",
       "      <td>250</td>\n",
       "    </tr>\n",
       "    <tr>\n",
       "      <th>ageWhenMature</th>\n",
       "      <td>18</td>\n",
       "    </tr>\n",
       "    <tr>\n",
       "      <th>youngMale0</th>\n",
       "      <td>200</td>\n",
       "    </tr>\n",
       "    <tr>\n",
       "      <th>youngFemale0</th>\n",
       "      <td>150</td>\n",
       "    </tr>\n",
       "    <tr>\n",
       "      <th>oldMale0</th>\n",
       "      <td>150</td>\n",
       "    </tr>\n",
       "    <tr>\n",
       "      <th>oldFemale0</th>\n",
       "      <td>150</td>\n",
       "    </tr>\n",
       "  </tbody>\n",
       "</table>\n",
       "</div>"
      ],
      "text/plain": [
       "t0                 0\n",
       "t_end             10\n",
       "old_pop0         300\n",
       "young_pop0       250\n",
       "ageWhenMature     18\n",
       "youngMale0       200\n",
       "youngFemale0     150\n",
       "oldMale0         150\n",
       "oldFemale0       150\n",
       "dtype: int64"
      ]
     },
     "execution_count": 128,
     "metadata": {},
     "output_type": "execute_result"
    }
   ],
   "source": [
    "system = System(t0 = 0, \n",
    "                t_end = 10,\n",
    "                old_pop0 = 300,\n",
    "                young_pop0 = 250,\n",
    "                ageWhenMature = 18,\n",
    "                youngMale0 = 200,\n",
    "                youngFemale0 = 150,\n",
    "                oldMale0 = 150,\n",
    "                oldFemale0 = 150) #age at which young -> old and has a baby\n",
    "\n",
    "systemDouble = System(death_rate = 0.5,\n",
    "                      probOfBeingBoy = 0.67)\n",
    "system"
   ]
  },
  {
   "cell_type": "code",
   "execution_count": 129,
   "metadata": {},
   "outputs": [
    {
     "data": {
      "text/html": [
       "<div>\n",
       "<style>\n",
       "    .dataframe thead tr:only-child th {\n",
       "        text-align: right;\n",
       "    }\n",
       "\n",
       "    .dataframe thead th {\n",
       "        text-align: left;\n",
       "    }\n",
       "\n",
       "    .dataframe tbody tr th {\n",
       "        vertical-align: top;\n",
       "    }\n",
       "</style>\n",
       "<table border=\"1\" class=\"dataframe\">\n",
       "  <thead>\n",
       "    <tr style=\"text-align: right;\">\n",
       "      <th></th>\n",
       "      <th>value</th>\n",
       "    </tr>\n",
       "  </thead>\n",
       "  <tbody>\n",
       "    <tr>\n",
       "      <th>death_rate</th>\n",
       "      <td>0.50</td>\n",
       "    </tr>\n",
       "    <tr>\n",
       "      <th>probOfBeingBoy</th>\n",
       "      <td>0.67</td>\n",
       "    </tr>\n",
       "  </tbody>\n",
       "</table>\n",
       "</div>"
      ],
      "text/plain": [
       "death_rate        0.50\n",
       "probOfBeingBoy    0.67\n",
       "dtype: float64"
      ]
     },
     "execution_count": 129,
     "metadata": {},
     "output_type": "execute_result"
    }
   ],
   "source": [
    "systemDouble"
   ]
  },
  {
   "cell_type": "code",
   "execution_count": 2,
   "metadata": {},
   "outputs": [
    {
     "ename": "NameError",
     "evalue": "name 'TimeSeries' is not defined",
     "output_type": "error",
     "traceback": [
      "\u001b[1;31m---------------------------------------------------------------------------\u001b[0m",
      "\u001b[1;31mNameError\u001b[0m                                 Traceback (most recent call last)",
      "\u001b[1;32m<ipython-input-2-d71e8402f6a2>\u001b[0m in \u001b[0;36m<module>\u001b[1;34m()\u001b[0m\n\u001b[1;32m----> 1\u001b[1;33m \u001b[0myoungFemale\u001b[0m \u001b[1;33m=\u001b[0m \u001b[0mTimeSeries\u001b[0m\u001b[1;33m(\u001b[0m\u001b[1;33m)\u001b[0m\u001b[1;33m\u001b[0m\u001b[0m\n\u001b[0m\u001b[0;32m      2\u001b[0m \u001b[0myoungMale\u001b[0m \u001b[1;33m=\u001b[0m \u001b[0mTimeSeries\u001b[0m\u001b[1;33m(\u001b[0m\u001b[1;33m)\u001b[0m\u001b[1;33m\u001b[0m\u001b[0m\n\u001b[0;32m      3\u001b[0m \u001b[0myoungTotal\u001b[0m \u001b[1;33m=\u001b[0m \u001b[0mTimeSeries\u001b[0m\u001b[1;33m(\u001b[0m\u001b[1;33m)\u001b[0m\u001b[1;33m\u001b[0m\u001b[0m\n\u001b[0;32m      4\u001b[0m \u001b[0moldMale\u001b[0m \u001b[1;33m=\u001b[0m \u001b[0mTimeSeries\u001b[0m\u001b[1;33m(\u001b[0m\u001b[1;33m)\u001b[0m\u001b[1;33m\u001b[0m\u001b[0m\n\u001b[0;32m      5\u001b[0m \u001b[0moldFemale\u001b[0m \u001b[1;33m=\u001b[0m \u001b[0mTimeSeries\u001b[0m\u001b[1;33m(\u001b[0m\u001b[1;33m)\u001b[0m\u001b[1;33m\u001b[0m\u001b[0m\n",
      "\u001b[1;31mNameError\u001b[0m: name 'TimeSeries' is not defined"
     ]
    }
   ],
   "source": [
    "youngFemale = TimeSeries()\n",
    "youngMale = TimeSeries()\n",
    "youngTotal = TimeSeries()\n",
    "oldMale = TimeSeries()\n",
    "oldFemale = TimeSeries()\n",
    "oldTotal = TimeSeries()\n",
    "population = TimeSeries()"
   ]
  },
  {
   "cell_type": "code",
   "execution_count": 149,
   "metadata": {},
   "outputs": [
    {
     "data": {
      "text/plain": [
       "[200,\n",
       " 210,\n",
       " 215,\n",
       " 320,\n",
       " 310,\n",
       " 219,\n",
       " 247,\n",
       " 362,\n",
       " 274,\n",
       " 373,\n",
       " 249,\n",
       " 384,\n",
       " 258,\n",
       " 314,\n",
       " 246,\n",
       " 287,\n",
       " 293,\n",
       " 310]"
      ]
     },
     "execution_count": 149,
     "metadata": {},
     "output_type": "execute_result"
    }
   ],
   "source": [
    "beforePolicy=[200, 210, 215, 320, 310, 219, 247, 362, 274, 373, 249, 384, 258, 314, 246, 287, 293, 310]\n",
    "beforePolicy"
   ]
  },
  {
   "cell_type": "code",
   "execution_count": 3,
   "metadata": {
    "collapsed": true
   },
   "outputs": [],
   "source": [
    "def run_simulation(system):\n",
    "    people = [[],[],[],[],[],[],[]] #creating a list series\n",
    "    youngMale = people[0]\n",
    "    youngFemale = people[1]\n",
    "    youngTotal = people[2]\n",
    "    oldMale = people[3]\n",
    "    oldFemale = people[4]\n",
    "    oldTotal = people[5]\n",
    "    population = people[6]\n",
    "\n",
    "    youngMale = [None]*max(system.t_end+2)\n",
    "    youngFemale = [None]*max(system.t_end+2)\n",
    "    youngTotal = [None]*max(system.t_end+2)\n",
    "    oldMale = [None]*max(system.t_end+2)\n",
    "    oldFemale = [None]*max(system.t_end+2)\n",
    "    oldTotal = [None]*max(system.t_end+2)\n",
    "    population = [None]*max(system.t_end+2)\n",
    "\n",
    "    oldTotal[system.t0] = system.old_pop0\n",
    "    youngTotal[system.t0] = system.young_pop0\n",
    "    youngMale[system.t0] = system.youngMale0\n",
    "    youngFemale[system.t0] = system.youngFemale0\n",
    "    oldMale[system.t0] = system.oldMale0\n",
    "    oldFemale[system.t0] = system.oldFemale0\n",
    "    population[system.t0] = system.old_pop0 + system.young_pop0\n",
    "    \n",
    "    \n",
    "    for t in range(system.t0, system.t_end):\n",
    "        i = 0\n",
    "        \n",
    "        if t < (system.t0 + system.ageWhenMature):\n",
    "            maturationsGirls = beforePolicy[i]/2\n",
    "            maturationsBoys = beforePolicy[i]/2\n",
    "            \n",
    "            babiesNextYear = maturationsGirls\n",
    "            \n",
    "            youngMale[t+1] = babiesNextYear*systemDouble.probOfBeingBoy + youngMale[t] - maturationsBoys\n",
    "            youngFemale[t+1] = babiesNextYear - youngMale[t+1] + youngFemale[t] - maturationsGirls\n",
    "            youngTotal[t+1] = youngMale[t+1] + youngFemale[t+1] + youngTotal[t]\n",
    "            \n",
    "            deaths = systemDouble.death_rate * oldTotal[t]\n",
    "            \n",
    "            oldFemale[t+1] = maturationsGirls + oldFemale[t] - deaths/2\n",
    "            oldMale[t+1] = maturationsBoys + oldMale[t] - deaths/2\n",
    "            oldTotal[t+1] = oldFemale[t+1] + oldMale[t+1]\n",
    "            \n",
    "            i+=1\n",
    "            \n",
    "            \n",
    "        else:\n",
    "            maturationsGirls = youngFemale[t- system.ageWhenMature]\n",
    "            maturationsBoys = youngMale[t - system.ageWhenMature]\n",
    "            \n",
    "            babiesNextYear = maturationsGirls\n",
    "            \n",
    "            youngMale[t+1] = babiesNextYear*systemDouble.probOfBeingBoy + youngMale[t] - maturationsBoys\n",
    "            youngFemale[t+1] = babiesNextYear - youngMale[t+1] + youngFemale[t] - maturationsGirls\n",
    "            youngTotal[t+1] = youngMale[t+1] + youngFemale[t+1] + youngTotal[t]\n",
    "            \n",
    "            deaths = systemDouble.death_rate * oldTotal[t]\n",
    "            \n",
    "            oldFemale[t+1] = maturationsGirls + oldFemale[t] - deaths/2\n",
    "            oldMale[t+1] = maturationsBoys + oldMale[t] - deaths/2\n",
    "            oldTotal[t+1] = oldFemale[t+1] + oldMale[t+1]\n",
    "            \n",
    "            population = youngTotal[t+1] + oldTotal[t+1]\n",
    "            \n",
    "    system.population = population"
   ]
  },
  {
   "cell_type": "markdown",
   "metadata": {},
   "source": [
    "Test your changes in `run_simulation`:"
   ]
  },
  {
   "cell_type": "code",
   "execution_count": 4,
   "metadata": {},
   "outputs": [
    {
     "ename": "NameError",
     "evalue": "name 'system' is not defined",
     "output_type": "error",
     "traceback": [
      "\u001b[1;31m---------------------------------------------------------------------------\u001b[0m",
      "\u001b[1;31mNameError\u001b[0m                                 Traceback (most recent call last)",
      "\u001b[1;32m<ipython-input-4-3b814e800ca8>\u001b[0m in \u001b[0;36m<module>\u001b[1;34m()\u001b[0m\n\u001b[1;32m----> 1\u001b[1;33m \u001b[0mrun_simulation\u001b[0m\u001b[1;33m(\u001b[0m\u001b[0msystem\u001b[0m\u001b[1;33m)\u001b[0m\u001b[1;33m\u001b[0m\u001b[0m\n\u001b[0m",
      "\u001b[1;31mNameError\u001b[0m: name 'system' is not defined"
     ]
    }
   ],
   "source": [
    "run_simulation(system)"
   ]
  },
  {
   "cell_type": "markdown",
   "metadata": {},
   "source": [
    "Next, update `plot_results` to plot both the adult and juvenile `TimeSeries`."
   ]
  },
  {
   "cell_type": "code",
   "execution_count": 190,
   "metadata": {
    "collapsed": true
   },
   "outputs": [],
   "source": [
    "def plot_results(system, title=None):\n",
    "    \"\"\"Plot the estimates and the model.\n",
    "    \n",
    "    system: System object with `results`\n",
    "    \"\"\"\n",
    "    newfig()\n",
    "    plot(system.population, 'bo-', label='population')\n",
    "    decorate(xlabel='Time (years)', \n",
    "             ylabel='Population of China (in millions)',\n",
    "             title=title)\n"
   ]
  },
  {
   "cell_type": "markdown",
   "metadata": {},
   "source": [
    "And test your updated version of `plot_results`."
   ]
  },
  {
   "cell_type": "code",
   "execution_count": 191,
   "metadata": {},
   "outputs": [
    {
     "data": {
      "image/png": "[encoded data removed]",
      "text/plain": [
       "<matplotlib.figure.Figure at 0x1e2c227e2e8>"
      ]
     },
     "metadata": {},
     "output_type": "display_data"
    }
   ],
   "source": [
    "plot_results(system, title='One Child Policy Test')"
   ]
  },
  {
   "cell_type": "code",
   "execution_count": 195,
   "metadata": {},
   "outputs": [
    {
     "name": "stdout",
     "output_type": "stream",
     "text": [
      "Help on function plot in module modsim:\n",
      "\n",
      "plot(*args, **kwargs)\n",
      "    Makes line plots.\n",
      "    \n",
      "    args can be:\n",
      "      plot(y)\n",
      "      plot(y, style_string)\n",
      "      plot(x, y)\n",
      "      plot(x, y, style_string)\n",
      "    \n",
      "    kwargs are the same as for pyplot.plot\n",
      "    \n",
      "    If x or y have attributes label and/or units,\n",
      "    label the axes accordingly.\n",
      "\n"
     ]
    }
   ],
   "source": [
    "help(plot)"
   ]
  },
  {
   "cell_type": "code",
   "execution_count": null,
   "metadata": {
    "collapsed": true
   },
   "outputs": [],
   "source": []
  }
 ],
 "metadata": {
  "kernelspec": {
   "display_name": "Python 3",
   "language": "python",
   "name": "python3"
  },
  "language_info": {
   "codemirror_mode": {
    "name": "ipython",
    "version": 3
   },
   "file_extension": ".py",
   "mimetype": "text/x-python",
   "name": "python",
   "nbconvert_exporter": "python",
   "pygments_lexer": "ipython3",
   "version": "3.6.1"
  }
 },
 "nbformat": 4,
 "nbformat_minor": 1
}
