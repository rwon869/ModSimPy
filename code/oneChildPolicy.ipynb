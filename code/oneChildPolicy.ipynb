{
 "cells": [
  {
   "cell_type": "markdown",
   "metadata": {},
   "source": [
    "# China's One Child Policy\n",
    "\n",
    "At what point are there too many men?\n"
   ]
  },
  {
   "cell_type": "code",
   "execution_count": 55,
   "metadata": {
    "collapsed": true
   },
   "outputs": [],
   "source": [
    "%matplotlib inline\n",
    "\n",
    "from modsim import *"
   ]
  },
  {
   "cell_type": "code",
   "execution_count": 56,
   "metadata": {},
   "outputs": [
    {
     "ename": "SyntaxError",
     "evalue": "EOF while scanning triple-quoted string literal (<ipython-input-56-1b8acae58c62>, line 32)",
     "output_type": "error",
     "traceback": [
      "\u001b[1;36m  File \u001b[1;32m\"<ipython-input-56-1b8acae58c62>\"\u001b[1;36m, line \u001b[1;32m32\u001b[0m\n\u001b[1;33m    adultpopmale = #ofmaturationboys + adultpopmale[yearBefore] - #ofdeaths/2\u001b[0m\n\u001b[1;37m                                                                             \n^\u001b[0m\n\u001b[1;31mSyntaxError\u001b[0m\u001b[1;31m:\u001b[0m EOF while scanning triple-quoted string literal\n"
     ]
    }
   ],
   "source": [
    "\"\"\"\" game plan:\n",
    "write a system with :\n",
    "t0 = time started\n",
    "adult population0 \n",
    "    male pop0\n",
    "    female pop0\n",
    "death_rate = death rate of population\n",
    "\n",
    "juvenile_pop0\n",
    "maturation # = when they reach a certain age, they are considered good to birth/have a baby \n",
    "    maturation# = maturation[i-18] (if 18 is the \"mature\" number)\n",
    "probability of being a girl or boy = calculcated from the male/female ratio\n",
    "    \n",
    "TimeSeries = array\n",
    "\n",
    "run_simulation(system)\n",
    "make two dataFrames, one young and one old w/ subarrays w/ males and females (and possibly total to make code cleaner) \n",
    "    FIGURE OUT HOW TO WRITE/INTIALIZE DATAFRAMES\n",
    "set pop0 to actual data points\n",
    "\n",
    "FOR every year: \n",
    "    #ofmaturationsgirls = system.young[i - (ageWhenMature)] #pulling the number of babies that were born ageWhenMature years ago\n",
    "    #ofmaturationsboys = \"              \"                          \"\n",
    "    \n",
    "    #ofbabiesNextYear = #ofmaturationsgirls\n",
    "    young.males[t+1] = #ofbabiesNextYear * system.probOfB\n",
    "    young.females[t+1] = #ofbabiesNextYear - young.males[t+1]\n",
    "    \n",
    "    #ofdeaths = adultpop[yearNow] * system.death_rate\n",
    "    \n",
    "    adultpopfemale = #ofmaturationgirls + adultpopfemale[yearBefore] - #ofdeaths/2\n",
    "    adultpopmale = #ofmaturationboys + adultpopmale[yearBefore] - #ofdeaths/2\n"
   ]
  },
  {
   "cell_type": "code",
   "execution_count": 128,
   "metadata": {},
   "outputs": [
    {
     "data": {
      "text/html": [
       "<div>\n",
       "<style>\n",
       "    .dataframe thead tr:only-child th {\n",
       "        text-align: right;\n",
       "    }\n",
       "\n",
       "    .dataframe thead th {\n",
       "        text-align: left;\n",
       "    }\n",
       "\n",
       "    .dataframe tbody tr th {\n",
       "        vertical-align: top;\n",
       "    }\n",
       "</style>\n",
       "<table border=\"1\" class=\"dataframe\">\n",
       "  <thead>\n",
       "    <tr style=\"text-align: right;\">\n",
       "      <th></th>\n",
       "      <th>value</th>\n",
       "    </tr>\n",
       "  </thead>\n",
       "  <tbody>\n",
       "    <tr>\n",
       "      <th>t0</th>\n",
       "      <td>0</td>\n",
       "    </tr>\n",
       "    <tr>\n",
       "      <th>t_end</th>\n",
       "      <td>10</td>\n",
       "    </tr>\n",
       "    <tr>\n",
       "      <th>old_pop0</th>\n",
       "      <td>300</td>\n",
       "    </tr>\n",
       "    <tr>\n",
       "      <th>young_pop0</th>\n",
       "      <td>250</td>\n",
       "    </tr>\n",
       "    <tr>\n",
       "      <th>ageWhenMature</th>\n",
       "      <td>18</td>\n",
       "    </tr>\n",
       "    <tr>\n",
       "      <th>youngMale0</th>\n",
       "      <td>200</td>\n",
       "    </tr>\n",
       "    <tr>\n",
       "      <th>youngFemale0</th>\n",
       "      <td>150</td>\n",
       "    </tr>\n",
       "    <tr>\n",
       "      <th>oldMale0</th>\n",
       "      <td>150</td>\n",
       "    </tr>\n",
       "    <tr>\n",
       "      <th>oldFemale0</th>\n",
       "      <td>150</td>\n",
       "    </tr>\n",
       "  </tbody>\n",
       "</table>\n",
       "</div>"
      ],
      "text/plain": [
       "t0                 0\n",
       "t_end             10\n",
       "old_pop0         300\n",
       "young_pop0       250\n",
       "ageWhenMature     18\n",
       "youngMale0       200\n",
       "youngFemale0     150\n",
       "oldMale0         150\n",
       "oldFemale0       150\n",
       "dtype: int64"
      ]
     },
     "execution_count": 128,
     "metadata": {},
     "output_type": "execute_result"
    }
   ],
   "source": [
    "system = System(t0 = 0, \n",
    "                t_end = 10,\n",
    "                old_pop0 = 300,\n",
    "                young_pop0 = 250,\n",
    "                ageWhenMature = 18,\n",
    "                youngMale0 = 200,\n",
    "                youngFemale0 = 150,\n",
    "                oldMale0 = 150,\n",
    "                oldFemale0 = 150) #age at which young -> old and has a baby\n",
    "\n",
    "systemDouble = System(death_rate = 0.5,\n",
    "                      probOfBeingBoy = 0.67)\n",
    "system"
   ]
  },
  {
   "cell_type": "code",
   "execution_count": 129,
   "metadata": {},
   "outputs": [
    {
     "data": {
      "text/html": [
       "<div>\n",
       "<style>\n",
       "    .dataframe thead tr:only-child th {\n",
       "        text-align: right;\n",
       "    }\n",
       "\n",
       "    .dataframe thead th {\n",
       "        text-align: left;\n",
       "    }\n",
       "\n",
       "    .dataframe tbody tr th {\n",
       "        vertical-align: top;\n",
       "    }\n",
       "</style>\n",
       "<table border=\"1\" class=\"dataframe\">\n",
       "  <thead>\n",
       "    <tr style=\"text-align: right;\">\n",
       "      <th></th>\n",
       "      <th>value</th>\n",
       "    </tr>\n",
       "  </thead>\n",
       "  <tbody>\n",
       "    <tr>\n",
       "      <th>death_rate</th>\n",
       "      <td>0.50</td>\n",
       "    </tr>\n",
       "    <tr>\n",
       "      <th>probOfBeingBoy</th>\n",
       "      <td>0.67</td>\n",
       "    </tr>\n",
       "  </tbody>\n",
       "</table>\n",
       "</div>"
      ],
      "text/plain": [
       "death_rate        0.50\n",
       "probOfBeingBoy    0.67\n",
       "dtype: float64"
      ]
     },
     "execution_count": 129,
     "metadata": {},
     "output_type": "execute_result"
    }
   ],
   "source": [
    "systemDouble"
   ]
  },
  {
   "cell_type": "code",
   "execution_count": 130,
   "metadata": {},
   "outputs": [
    {
     "data": {
      "text/plain": [
       "[None, None, None, None, None, None, None, None, None, None]"
      ]
     },
     "execution_count": 130,
     "metadata": {},
     "output_type": "execute_result"
    }
   ],
   "source": [
    "people = [[],[],[],[],[],[],[]] #creating a list series\n",
    "youngMale = people[0]\n",
    "youngFemale = people[1]\n",
    "youngTotal = people[2]\n",
    "oldMale = people[3]\n",
    "oldFemale = people[4]\n",
    "oldTotal = people[5]\n",
    "population = people[6]\n",
    "\n",
    "youngMale = [None]*max(system.t_end)\n",
    "youngFemale = [None]*max(system.t_end)\n",
    "youngTotal = [None]*max(system.t_end)\n",
    "oldMale = [None]*max(system.t_end)\n",
    "oldFemale = [None]*max(system.t_end)\n",
    "oldTotal = [None]*max(system.t_end)\n",
    "population = [None]*max(system.t_end)\n",
    "\n",
    "oldTotal"
   ]
  },
  {
   "cell_type": "code",
   "execution_count": 131,
   "metadata": {},
   "outputs": [
    {
     "data": {
      "text/plain": [
       "[200,\n",
       " 210,\n",
       " 215,\n",
       " 320,\n",
       " 310,\n",
       " 219,\n",
       " 247,\n",
       " 362,\n",
       " 274,\n",
       " 373,\n",
       " 249,\n",
       " 384,\n",
       " 258,\n",
       " 314,\n",
       " 246,\n",
       " 287,\n",
       " 293,\n",
       " 310]"
      ]
     },
     "execution_count": 131,
     "metadata": {},
     "output_type": "execute_result"
    }
   ],
   "source": [
    "beforePolicy=[200, 210, 215, 320, 310, 219, 247, 362, 274, 373, 249, 384, 258, 314, 246, 287, 293, 310]\n",
    "beforePolicy"
   ]
  },
  {
   "cell_type": "code",
   "execution_count": 141,
   "metadata": {},
   "outputs": [],
   "source": [
    "def run_simulation(system):\n",
    "    people = [[],[],[],[],[],[],[]] #creating a list series\n",
    "    youngMale = people[0]\n",
    "    youngFemale = people[1]\n",
    "    youngTotal = people[2]\n",
    "    oldMale = people[3]\n",
    "    oldFemale = people[4]\n",
    "    oldTotal = people[5]\n",
    "    population = people[6]\n",
    "\n",
    "    youngMale = [None]*max(system.t_end)\n",
    "    youngFemale = [None]*max(system.t_end)\n",
    "    youngTotal = [None]*max(system.t_end)\n",
    "    oldMale = [None]*max(system.t_end)\n",
    "    oldFemale = [None]*max(system.t_end)\n",
    "    oldTotal = [None]*max(system.t_end)\n",
    "    population = [None]*max(system.t_end)\n",
    "\n",
    "    oldTotal[system.t0] = system.old_pop0\n",
    "    youngTotal[system.t0] = system.young_pop0\n",
    "    youngMale[system.t0] = system.youngMale0\n",
    "    youngFemale[system.t0] = system.youngFemale0\n",
    "    oldMale[system.t0] = system.oldMale0\n",
    "    oldFemale[system.t0] = system.oldFemale0\n",
    "    \n",
    "    \n",
    "    for t in linrange(system.t0, system.t_end):\n",
    "        i = 0\n",
    "        \n",
    "        if t < (system.t0 + system.ageWhenMature):\n",
    "            maturationsGirls = beforePolicy[i]/2\n",
    "            maturationsBoys = beforePolicy[i]/2\n",
    "            \n",
    "            babiesNextYear = maturationsGirls\n",
    "            \n",
    "            youngMale[int(t+1)] = babiesNextYear*systemDouble.probOfBeingBoy + youngMale[int(t)]\n",
    "            youngFemale[int(t+1)] = babiesNextYear - youngMale[int(t+1)] + youngFemale[int(t)]\n",
    "            youngTotal[int(t+1)] = youngMale[int(t+1)] + youngFemale[int(t+1)] + youngTotal[int(t)]\n",
    "            \n",
    "            deaths = systemDouble.death_rate * oldTotal[int(t)]\n",
    "            \n",
    "            oldFemale[int(t+1)] = maturationsGirls + oldFemale[int(t)] - deaths/2\n",
    "            oldMale[int(t+1)] = maturationsBoys + oldMale[int(t)] - deaths/2\n",
    "            oldTotal[int(t+1)] = oldFemale[int(t+1)] + oldMale[int(t+1)]\n",
    "            \n",
    "            i+=1\n",
    "            \n",
    "            \n",
    "        else:\n",
    "            maturationsGirls = youngFemale[int(t - system.ageWhenMature)]\n",
    "            maturationsBoys = youngMale[int(t - system.ageWhenMature)]\n",
    "            \n",
    "            babiesNextYear = maturationsGirls\n",
    "            \n",
    "            youngMale[int(t+1)] = babiesNextYear*systemDouble.probOfBeingBoy + youngMale[int(t)]\n",
    "            youngFemale[int(t+1)] = babiesNextYear - youngMale[int(t+1)] + youngFemale[int(t)]\n",
    "            youngTotal[int(t+1)] = youngMale[int(t+1)] + youngFemale[int(t+1)] + youngTotal[int(t)]\n",
    "            \n",
    "            deaths = systemDouble.death_rate * oldTotal[int(t)]\n",
    "            \n",
    "            oldFemale[int(t+1)] = maturationsGirls + oldFemale[int(t)] - deaths/2\n",
    "            oldMale[int(t+1)] = maturationsBoys + oldMale[int(t)] - deaths/2\n",
    "            oldTotal[int(t+1)] = oldFemale[int(t+1)] + oldMale[int(t+1)]\n",
    "            \n",
    "    system.population = youngTotal[int(t+1)] + oldTotal[int(t+1)]"
   ]
  },
  {
   "cell_type": "markdown",
   "metadata": {},
   "source": [
    "Test your changes in `run_simulation`:"
   ]
  },
  {
   "cell_type": "code",
   "execution_count": 142,
   "metadata": {},
   "outputs": [
    {
     "ename": "IndexError",
     "evalue": "list assignment index out of range",
     "output_type": "error",
     "traceback": [
      "\u001b[1;31m---------------------------------------------------------------------------\u001b[0m",
      "\u001b[1;31mIndexError\u001b[0m                                Traceback (most recent call last)",
      "\u001b[1;32m<ipython-input-142-3b814e800ca8>\u001b[0m in \u001b[0;36m<module>\u001b[1;34m()\u001b[0m\n\u001b[1;32m----> 1\u001b[1;33m \u001b[0mrun_simulation\u001b[0m\u001b[1;33m(\u001b[0m\u001b[0msystem\u001b[0m\u001b[1;33m)\u001b[0m\u001b[1;33m\u001b[0m\u001b[0m\n\u001b[0m",
      "\u001b[1;32m<ipython-input-141-6af1c1e46b68>\u001b[0m in \u001b[0;36mrun_simulation\u001b[1;34m(system)\u001b[0m\n\u001b[0;32m     34\u001b[0m             \u001b[0mbabiesNextYear\u001b[0m \u001b[1;33m=\u001b[0m \u001b[0mmaturationsGirls\u001b[0m\u001b[1;33m\u001b[0m\u001b[0m\n\u001b[0;32m     35\u001b[0m \u001b[1;33m\u001b[0m\u001b[0m\n\u001b[1;32m---> 36\u001b[1;33m             \u001b[0myoungMale\u001b[0m\u001b[1;33m[\u001b[0m\u001b[0mint\u001b[0m\u001b[1;33m(\u001b[0m\u001b[0mt\u001b[0m\u001b[1;33m+\u001b[0m\u001b[1;36m1\u001b[0m\u001b[1;33m)\u001b[0m\u001b[1;33m]\u001b[0m \u001b[1;33m=\u001b[0m \u001b[0mbabiesNextYear\u001b[0m\u001b[1;33m*\u001b[0m\u001b[0msystemDouble\u001b[0m\u001b[1;33m.\u001b[0m\u001b[0mprobOfBeingBoy\u001b[0m \u001b[1;33m+\u001b[0m \u001b[0myoungMale\u001b[0m\u001b[1;33m[\u001b[0m\u001b[0mint\u001b[0m\u001b[1;33m(\u001b[0m\u001b[0mt\u001b[0m\u001b[1;33m)\u001b[0m\u001b[1;33m]\u001b[0m\u001b[1;33m\u001b[0m\u001b[0m\n\u001b[0m\u001b[0;32m     37\u001b[0m             \u001b[0myoungFemale\u001b[0m\u001b[1;33m[\u001b[0m\u001b[0mint\u001b[0m\u001b[1;33m(\u001b[0m\u001b[0mt\u001b[0m\u001b[1;33m+\u001b[0m\u001b[1;36m1\u001b[0m\u001b[1;33m)\u001b[0m\u001b[1;33m]\u001b[0m \u001b[1;33m=\u001b[0m \u001b[0mbabiesNextYear\u001b[0m \u001b[1;33m-\u001b[0m \u001b[0myoungMale\u001b[0m\u001b[1;33m[\u001b[0m\u001b[0mint\u001b[0m\u001b[1;33m(\u001b[0m\u001b[0mt\u001b[0m\u001b[1;33m+\u001b[0m\u001b[1;36m1\u001b[0m\u001b[1;33m)\u001b[0m\u001b[1;33m]\u001b[0m \u001b[1;33m+\u001b[0m \u001b[0myoungFemale\u001b[0m\u001b[1;33m[\u001b[0m\u001b[0mint\u001b[0m\u001b[1;33m(\u001b[0m\u001b[0mt\u001b[0m\u001b[1;33m)\u001b[0m\u001b[1;33m]\u001b[0m\u001b[1;33m\u001b[0m\u001b[0m\n\u001b[0;32m     38\u001b[0m             \u001b[0myoungTotal\u001b[0m\u001b[1;33m[\u001b[0m\u001b[0mint\u001b[0m\u001b[1;33m(\u001b[0m\u001b[0mt\u001b[0m\u001b[1;33m+\u001b[0m\u001b[1;36m1\u001b[0m\u001b[1;33m)\u001b[0m\u001b[1;33m]\u001b[0m \u001b[1;33m=\u001b[0m \u001b[0myoungMale\u001b[0m\u001b[1;33m[\u001b[0m\u001b[0mint\u001b[0m\u001b[1;33m(\u001b[0m\u001b[0mt\u001b[0m\u001b[1;33m+\u001b[0m\u001b[1;36m1\u001b[0m\u001b[1;33m)\u001b[0m\u001b[1;33m]\u001b[0m \u001b[1;33m+\u001b[0m \u001b[0myoungFemale\u001b[0m\u001b[1;33m[\u001b[0m\u001b[0mint\u001b[0m\u001b[1;33m(\u001b[0m\u001b[0mt\u001b[0m\u001b[1;33m+\u001b[0m\u001b[1;36m1\u001b[0m\u001b[1;33m)\u001b[0m\u001b[1;33m]\u001b[0m \u001b[1;33m+\u001b[0m \u001b[0myoungTotal\u001b[0m\u001b[1;33m[\u001b[0m\u001b[0mint\u001b[0m\u001b[1;33m(\u001b[0m\u001b[0mt\u001b[0m\u001b[1;33m)\u001b[0m\u001b[1;33m]\u001b[0m\u001b[1;33m\u001b[0m\u001b[0m\n",
      "\u001b[1;31mIndexError\u001b[0m: list assignment index out of range"
     ]
    }
   ],
   "source": [
    "run_simulation(system)"
   ]
  },
  {
   "cell_type": "markdown",
   "metadata": {},
   "source": [
    "Next, update `plot_results` to plot both the adult and juvenile `TimeSeries`."
   ]
  },
  {
   "cell_type": "code",
   "execution_count": 33,
   "metadata": {
    "collapsed": true
   },
   "outputs": [],
   "source": [
    "def plot_results(system, title=None):\n",
    "    \"\"\"Plot the estimates and the model.\n",
    "    \n",
    "    system: System object with `results`\n",
    "    \"\"\"\n",
    "    newfig()\n",
    "    plot(system.adults, 'bo-', label='adults')\n",
    "    plot(system.juveniles, 'ro-', label='juveniles')\n",
    "    decorate(xlabel='Season', \n",
    "             ylabel='Rabbit population',\n",
    "             title=title)\n"
   ]
  },
  {
   "cell_type": "markdown",
   "metadata": {},
   "source": [
    "And test your updated version of `plot_results`."
   ]
  },
  {
   "cell_type": "code",
   "execution_count": 34,
   "metadata": {},
   "outputs": [
    {
     "data": {
      "image/png": "[encoded data removed]",
      "text/plain": [
       "<matplotlib.figure.Figure at 0x1d7545a18d0>"
      ]
     },
     "metadata": {},
     "output_type": "display_data"
    }
   ],
   "source": [
    "plot_results(system, title='Proportional growth model with Adults and Juveniles')"
   ]
  },
  {
   "cell_type": "markdown",
   "metadata": {},
   "source": [
    "This notebook demonstrates the steps we recommend for starting your project:\n",
    "\n",
    "1.  Start with one of the examples from the book, either by copying a notebook or pasting code into a new notebook.  Get the code working before you make any changes.\n",
    "\n",
    "2.  Make one small change, and run the code again.\n",
    "\n",
    "3.  Repeat step 2 until you have a basic implementation of your model.\n",
    "\n",
    "If you start with working code that you understand and make small changes, you can avoid spending a lot of time debugging.\n",
    "\n",
    "One you have a basic model working, you can think about what metrics to measure, what parameters to sweep, and how to use the model to predict, explain, or design."
   ]
  },
  {
   "cell_type": "markdown",
   "metadata": {},
   "source": [
    "### Bonus question\n",
    "\n",
    "Suppose you only have room for 30 adult rabbits.  Whenever the adult population exceeds 30, you take any excess rabbits to market (as pets for kind children, of course).  Modify `run_simulation` to model this strategy.  What effect does it have on the behavior of the system?  You might have to run for more than 10 seasons to see what happens."
   ]
  },
  {
   "cell_type": "code",
   "execution_count": 39,
   "metadata": {
    "collapsed": true
   },
   "outputs": [],
   "source": [
    "def run_simulation_bonus(system):\n",
    "    adults = TimeSeries()\n",
    "    adults[system.t0] = system.adult_pop0\n",
    "    \n",
    "    juveniles = TimeSeries()\n",
    "    juveniles[system.t0] = system.juvenile_pop0\n",
    "    \n",
    "    for t in linrange(system.t0, system.t_end):\n",
    "        births = system.birth_rate * adults[t]\n",
    "        deaths = system.death_rate * adults[t]\n",
    "        \n",
    "        mature_juve = system.mature_rate * juveniles[t]\n",
    "        \n",
    "        juveniles[t+1] = juveniles[t] - mature_juve + births\n",
    "        countAdults = adults[t] - deaths + mature_juve\n",
    "        \n",
    "        if countAdults > 30:\n",
    "            countAdults = 30\n",
    "        \n",
    "        adults[t+1] = countAdults\n",
    "        \n",
    "    system.adults = adults\n",
    "    system.juveniles = juveniles"
   ]
  },
  {
   "cell_type": "code",
   "execution_count": 40,
   "metadata": {},
   "outputs": [
    {
     "data": {
      "text/html": [
       "<div>\n",
       "<style>\n",
       "    .dataframe thead tr:only-child th {\n",
       "        text-align: right;\n",
       "    }\n",
       "\n",
       "    .dataframe thead th {\n",
       "        text-align: left;\n",
       "    }\n",
       "\n",
       "    .dataframe tbody tr th {\n",
       "        vertical-align: top;\n",
       "    }\n",
       "</style>\n",
       "<table border=\"1\" class=\"dataframe\">\n",
       "  <thead>\n",
       "    <tr style=\"text-align: right;\">\n",
       "      <th></th>\n",
       "      <th>value</th>\n",
       "    </tr>\n",
       "  </thead>\n",
       "  <tbody>\n",
       "    <tr>\n",
       "      <th>0</th>\n",
       "      <td>10.000000</td>\n",
       "    </tr>\n",
       "    <tr>\n",
       "      <th>1</th>\n",
       "      <td>5.000000</td>\n",
       "    </tr>\n",
       "    <tr>\n",
       "      <th>2</th>\n",
       "      <td>5.470000</td>\n",
       "    </tr>\n",
       "    <tr>\n",
       "      <th>3</th>\n",
       "      <td>6.209900</td>\n",
       "    </tr>\n",
       "    <tr>\n",
       "      <th>4</th>\n",
       "      <td>7.057723</td>\n",
       "    </tr>\n",
       "    <tr>\n",
       "      <th>5</th>\n",
       "      <td>8.021560</td>\n",
       "    </tr>\n",
       "    <tr>\n",
       "      <th>6</th>\n",
       "      <td>9.117031</td>\n",
       "    </tr>\n",
       "    <tr>\n",
       "      <th>7</th>\n",
       "      <td>10.362107</td>\n",
       "    </tr>\n",
       "    <tr>\n",
       "      <th>8</th>\n",
       "      <td>11.777219</td>\n",
       "    </tr>\n",
       "    <tr>\n",
       "      <th>9</th>\n",
       "      <td>13.385586</td>\n",
       "    </tr>\n",
       "    <tr>\n",
       "      <th>10</th>\n",
       "      <td>15.213601</td>\n",
       "    </tr>\n",
       "    <tr>\n",
       "      <th>11</th>\n",
       "      <td>17.291261</td>\n",
       "    </tr>\n",
       "    <tr>\n",
       "      <th>12</th>\n",
       "      <td>19.652658</td>\n",
       "    </tr>\n",
       "    <tr>\n",
       "      <th>13</th>\n",
       "      <td>22.336542</td>\n",
       "    </tr>\n",
       "    <tr>\n",
       "      <th>14</th>\n",
       "      <td>25.386953</td>\n",
       "    </tr>\n",
       "    <tr>\n",
       "      <th>15</th>\n",
       "      <td>28.853947</td>\n",
       "    </tr>\n",
       "    <tr>\n",
       "      <th>16</th>\n",
       "      <td>30.000000</td>\n",
       "    </tr>\n",
       "    <tr>\n",
       "      <th>17</th>\n",
       "      <td>30.000000</td>\n",
       "    </tr>\n",
       "    <tr>\n",
       "      <th>18</th>\n",
       "      <td>30.000000</td>\n",
       "    </tr>\n",
       "    <tr>\n",
       "      <th>19</th>\n",
       "      <td>30.000000</td>\n",
       "    </tr>\n",
       "    <tr>\n",
       "      <th>20</th>\n",
       "      <td>30.000000</td>\n",
       "    </tr>\n",
       "    <tr>\n",
       "      <th>21</th>\n",
       "      <td>30.000000</td>\n",
       "    </tr>\n",
       "    <tr>\n",
       "      <th>22</th>\n",
       "      <td>30.000000</td>\n",
       "    </tr>\n",
       "    <tr>\n",
       "      <th>23</th>\n",
       "      <td>30.000000</td>\n",
       "    </tr>\n",
       "    <tr>\n",
       "      <th>24</th>\n",
       "      <td>30.000000</td>\n",
       "    </tr>\n",
       "    <tr>\n",
       "      <th>25</th>\n",
       "      <td>30.000000</td>\n",
       "    </tr>\n",
       "    <tr>\n",
       "      <th>26</th>\n",
       "      <td>30.000000</td>\n",
       "    </tr>\n",
       "  </tbody>\n",
       "</table>\n",
       "</div>"
      ],
      "text/plain": [
       "0     10.000000\n",
       "1      5.000000\n",
       "2      5.470000\n",
       "3      6.209900\n",
       "4      7.057723\n",
       "5      8.021560\n",
       "6      9.117031\n",
       "7     10.362107\n",
       "8     11.777219\n",
       "9     13.385586\n",
       "10    15.213601\n",
       "11    17.291261\n",
       "12    19.652658\n",
       "13    22.336542\n",
       "14    25.386953\n",
       "15    28.853947\n",
       "16    30.000000\n",
       "17    30.000000\n",
       "18    30.000000\n",
       "19    30.000000\n",
       "20    30.000000\n",
       "21    30.000000\n",
       "22    30.000000\n",
       "23    30.000000\n",
       "24    30.000000\n",
       "25    30.000000\n",
       "26    30.000000\n",
       "dtype: float64"
      ]
     },
     "execution_count": 40,
     "metadata": {},
     "output_type": "execute_result"
    }
   ],
   "source": [
    "run_simulation_bonus(system)\n",
    "system.adults"
   ]
  },
  {
   "cell_type": "code",
   "execution_count": 38,
   "metadata": {},
   "outputs": [
    {
     "data": {
      "image/png": "[encoded data removed]",
      "text/plain": [
       "<matplotlib.figure.Figure at 0x1d75480ed68>"
      ]
     },
     "metadata": {},
     "output_type": "display_data"
    }
   ],
   "source": [
    "def plot_results(system, title=None):\n",
    "    \"\"\"Plot the estimates and the model.\n",
    "    \n",
    "    system: System object with `results`\n",
    "    \"\"\"\n",
    "    newfig()\n",
    "    plot(system.adults, 'bo-', label='adults')\n",
    "    plot(system.juveniles, 'ro-', label='juveniles')\n",
    "    decorate(xlabel='Season', \n",
    "             ylabel='Rabbit population',\n",
    "             title=title)\n",
    "\n",
    "plot_results(system, title='Proportional growth model with Adults and Juveniles w/ Limited Room')"
   ]
  }
 ],
 "metadata": {
  "kernelspec": {
   "display_name": "Python 3",
   "language": "python",
   "name": "python3"
  },
  "language_info": {
   "codemirror_mode": {
    "name": "ipython",
    "version": 3
   },
   "file_extension": ".py",
   "mimetype": "text/x-python",
   "name": "python",
   "nbconvert_exporter": "python",
   "pygments_lexer": "ipython3",
   "version": "3.6.1"
  }
 },
 "nbformat": 4,
 "nbformat_minor": 1
}
